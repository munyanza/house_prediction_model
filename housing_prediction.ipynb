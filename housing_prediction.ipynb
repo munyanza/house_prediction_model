{
  "nbformat": 4,
  "nbformat_minor": 0,
  "metadata": {
    "colab": {
      "provenance": [],
      "authorship_tag": "ABX9TyMOzq030sYX6eK9gUsP2vJM",
      "include_colab_link": true
    },
    "kernelspec": {
      "name": "python3",
      "display_name": "Python 3"
    },
    "language_info": {
      "name": "python"
    }
  },
  "cells": [
    {
      "cell_type": "markdown",
      "metadata": {
        "id": "view-in-github",
        "colab_type": "text"
      },
      "source": [
        "<a href=\"https://colab.research.google.com/github/munyanza/house_prediction_model/blob/main/housing_prediction.ipynb\" target=\"_parent\"><img src=\"https://colab.research.google.com/assets/colab-badge.svg\" alt=\"Open In Colab\"/></a>"
      ]
    },
    {
      "cell_type": "code",
      "execution_count": null,
      "metadata": {
        "id": "4PK30mLrNtUy"
      },
      "outputs": [],
      "source": [
        "import pandas as pd\n",
        "import numpy as np\n",
        "from sklearn.linear_model import LinearRegression\n",
        "from sklearn.model_selection import train_test_split\n",
        "from sklearn.metrics import mean_squared_error, r2_score"
      ]
    },
    {
      "cell_type": "code",
      "source": [
        "#creating synthetic dataset\n",
        "np.random.seed(42)\n",
        "data = {\n",
        "    'SquareFootage': np.random.randint(800, 4000, 20),\n",
        "    'Bedrooms': np.random.randint(1, 6, 20),\n",
        "    'Bathrooms': np.random.randint(1, 4, 20),\n",
        "    'YearBuilt': np.random.randint(1950, 2025, 20),\n",
        "    'Garage': np.random.randint(0, 3, 20),\n",
        "    'LocationScore' :np.random.uniform(1, 10, 20).round(1),\n",
        "    'Price' :np.random.randint(150000, 950000, 20)\n",
        "}\n",
        "\n",
        "#Add some correction between features and price\n",
        "data['Price'] = (data['SquareFootage'] * 150 +\n",
        "                 data['Bedrooms'] * 20000 +\n",
        "                 data['Bathrooms'] * 15000 +\n",
        "                 data['LocationScore'] * 10000 +\n",
        "                 (2023 - data['YearBuilt']) * -500 +\n",
        "                 data['Garage'] * 10000 +\n",
        "                 np.random.randint(-50000, 50000, 20))\n",
        "df = pd.DataFrame(data)\n",
        "print(df.head(10))"
      ],
      "metadata": {
        "colab": {
          "base_uri": "https://localhost:8080/"
        },
        "id": "R4uAPkcFOpZF",
        "outputId": "2b84701d-5af9-48c6-c918-7c19062c8e7f"
      },
      "execution_count": null,
      "outputs": [
        {
          "output_type": "stream",
          "name": "stdout",
          "text": [
            "   SquareFootage  Bedrooms  Bathrooms  YearBuilt  Garage  LocationScore  \\\n",
            "0           3974         2          1       1985       0            7.4   \n",
            "1           1660         4          3       1999       0            7.6   \n",
            "2           2094         5          3       1953       1            7.9   \n",
            "3           1930         1          1       1951       2            1.7   \n",
            "4           1895         4          1       1955       0            4.2   \n",
            "5           3892         2          3       2003       1            2.0   \n",
            "6           2438         5          2       1953       0            8.8   \n",
            "7           2969         4          1       2003       0            6.6   \n",
            "8           1266         1          2       2012       0            4.0   \n",
            "9           2038         1          2       1967       0            1.6   \n",
            "\n",
            "      Price  \n",
            "0  689927.0  \n",
            "1  443820.0  \n",
            "2  525723.0  \n",
            "3  357234.0  \n",
            "4  412700.0  \n",
            "5  732226.0  \n",
            "6  520999.0  \n",
            "7  589935.0  \n",
            "8  288444.0  \n",
            "9  336257.0  \n"
          ]
        }
      ]
    },
    {
      "cell_type": "markdown",
      "source": [
        "**Housing Price Prediction Model**"
      ],
      "metadata": {
        "id": "bfXy12eYSbQ3"
      }
    },
    {
      "cell_type": "code",
      "source": [
        "#Prepare data for modelling\n",
        "X = df.drop('Price',axis=1)\n",
        "y = df['Price']\n",
        "\n",
        "#Split data into training and test sets\n",
        "X_train, X_test, y_train, y_test = train_test_split(X, y, test_size=0.2,random_state=42)\n",
        "\n",
        "#Create and train linear regression model\n",
        "model = LinearRegression()\n",
        "model.fit(X_train,y_train)\n",
        "\n",
        "#Make predictions\n",
        "y_pred = model.predict(X_test)\n",
        "\n",
        "#Evaluate model\n",
        "mse = mean_squared_error(y_test, y_pred)\n",
        "r2 = r2_score(y_test, y_pred)\n",
        "\n",
        "print(\"\\nModel Evaluation:\")\n",
        "print(f\"Mean Squared Error:{mse:.2f}\")\n",
        "print(f\"R-squaared Score:{r2:.2f}\")\n",
        "\n",
        "#Show predictions vs actual\n",
        "results = pd.DataFrame({'Actual':y_test,'Predicted':y_pred.round()})\n",
        "print(\"\\nPrediction Results:\")\n",
        "print(results)"
      ],
      "metadata": {
        "colab": {
          "base_uri": "https://localhost:8080/"
        },
        "id": "-c29aVCMSJKq",
        "outputId": "f4fbbcbc-247e-4921-fe8e-e0948658d74b"
      },
      "execution_count": null,
      "outputs": [
        {
          "output_type": "stream",
          "name": "stdout",
          "text": [
            "\n",
            "Model Evaluation:\n",
            "Mean Squared Error:537168770.44\n",
            "R-squaared Score:0.98\n",
            "\n",
            "Prediction Results:\n",
            "      Actual  Predicted\n",
            "0   689927.0   729476.0\n",
            "17  416291.0   421263.0\n",
            "15  259439.0   262905.0\n",
            "1   443820.0   420414.0\n"
          ]
        }
      ]
    },
    {
      "cell_type": "markdown",
      "source": [
        "**Predicting New House Prices**"
      ],
      "metadata": {
        "id": "PIXeeRhmXHcQ"
      }
    },
    {
      "cell_type": "code",
      "source": [
        "#New house data\n",
        "new_houses = pd.DataFrame({\n",
        "    'SquareFootage' : [1500,3000],\n",
        "    'Bedrooms' : [3, 4],\n",
        "    'Bathrooms' : [2, 3],\n",
        "    'YearBuilt' : [2010, 1995],\n",
        "    'Garage' : [1, 2],\n",
        "    'LocationScore' : [7.5, 8.0]\n",
        "})\n",
        "\n",
        "#Make predictions\n",
        "new_predictions = model.predict(new_houses)\n",
        "\n",
        "print(\"\\nNew House Predictions:\")\n",
        "for i, price in enumerate(new_predictions):\n",
        "  print(f'House {i+1}: ${price:,.2f}')"
      ],
      "metadata": {
        "colab": {
          "base_uri": "https://localhost:8080/"
        },
        "id": "y9D4rafASk3o",
        "outputId": "bd5eda55-5434-408e-ec96-a78bde6d2beb"
      },
      "execution_count": null,
      "outputs": [
        {
          "output_type": "stream",
          "name": "stdout",
          "text": [
            "\n",
            "New House Predictions:\n",
            "House 1: $381,960.06\n",
            "House 2: $660,590.77\n"
          ]
        }
      ]
    },
    {
      "cell_type": "code",
      "source": [],
      "metadata": {
        "id": "mlrzvnrUXRA2"
      },
      "execution_count": null,
      "outputs": []
    }
  ]
}